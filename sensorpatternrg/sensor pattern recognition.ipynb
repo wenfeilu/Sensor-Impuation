{
 "cells": [
  {
   "cell_type": "code",
   "execution_count": 1,
   "metadata": {},
   "outputs": [],
   "source": [
    "import numpy as np\n",
    "import os\n",
    "os.environ['TF_CPP_MIN_LOG_LEVEL'] = '3'\n",
    "import tensorflow as tf\n",
    "tf.logging.set_verbosity(tf.logging.ERROR)\n",
    "from tensorflow.contrib.tensorboard.plugins import projector\n",
    "from model import Model,load_training_data, plot_data, plot_z_run"
   ]
  },
  {
   "cell_type": "code",
   "execution_count": 2,
   "metadata": {},
   "outputs": [],
   "source": [
    "%load_ext autoreload\n",
    "%autoreload 2"
   ]
  },
  {
   "cell_type": "code",
   "execution_count": 3,
   "metadata": {},
   "outputs": [],
   "source": [
    "config = {}  # Put all configuration information into the dict\n",
    "config['num_layers'] = 2  # number of layers of stacked RNN's\n",
    "config['hidden_size'] = 90  # memory cells in a layer\n",
    "config['max_grad_norm'] = 5  # maximum gradient norm during training\n",
    "config['batch_size'] = batch_size = 64\n",
    "config['learning_rate'] = .005\n",
    "config['crd'] = 1  # Hyperparameter for future generalization\n",
    "config['num_l'] = 20  # number of units in the latent space\n",
    "\n",
    "plot_every = 100  # after _plot_every_ GD steps, there's console output\n",
    "max_iterations = 1000  # maximum number of iterations\n",
    "dropout = 0.8  # Dropout rate"
   ]
  },
  {
   "cell_type": "code",
   "execution_count": 4,
   "metadata": {},
   "outputs": [
    {
     "name": "stdout",
     "output_type": "stream",
     "text": [
      "We have 6000 observations with 128 dimensions\n"
     ]
    }
   ],
   "source": [
    "\"\"\"Load the data\"\"\"\n",
    "data = data_utils.load_training_data()\n",
    "X_train = data[:6000,:]\n",
    "X_val = data[6000:,:]\n",
    "N = X_train.shape[0]\n",
    "Nval = X_val.shape[0]\n",
    "D = X_train.shape[1]\n",
    "config['sl'] = sl = D  # sequence length\n",
    "print('We have %s observations with %s dimensions' % (N, D))"
   ]
  },
  {
   "cell_type": "code",
   "execution_count": 5,
   "metadata": {},
   "outputs": [
    {
     "name": "stdout",
     "output_type": "stream",
     "text": [
      "Train with approximately 10 epochs\n",
      "At      0 /   1000 train (2.775, 0.950, 1.825), val (1.579, 0.840,0.739) in order (total, seq, lat)\n",
      "At    100 /   1000 train (0.462, 0.452, 0.010), val (0.470, 0.470,0.000) in order (total, seq, lat)\n",
      "At    200 /   1000 train (0.581, 0.576, 0.005), val (0.521, 0.520,0.001) in order (total, seq, lat)\n",
      "At    300 /   1000 train (0.593, 0.587, 0.006), val (0.574, 0.573,0.001) in order (total, seq, lat)\n",
      "At    400 /   1000 train (0.356, 0.344, 0.012), val (0.806, 0.798,0.008) in order (total, seq, lat)\n",
      "At    500 /   1000 train (0.343, 0.332, 0.011), val (0.317, 0.309,0.008) in order (total, seq, lat)\n",
      "At    600 /   1000 train (-0.178, -0.181, 0.003), val (-0.155, -0.156,0.001) in order (total, seq, lat)\n",
      "At    700 /   1000 train (0.426, 0.422, 0.005), val (0.391, 0.390,0.001) in order (total, seq, lat)\n",
      "At    800 /   1000 train (-0.177, -0.183, 0.006), val (-0.304, -0.306,0.002) in order (total, seq, lat)\n",
      "At    900 /   1000 train (-0.291, -0.298, 0.007), val (-0.224, -0.225,0.001) in order (total, seq, lat)\n"
     ]
    }
   ],
   "source": [
    "# Proclaim the epochs\n",
    "epochs = np.floor(batch_size * max_iterations / N)\n",
    "print('Train with approximately %d epochs' % epochs)\n",
    "\n",
    "\"\"\"Training time!\"\"\"\n",
    "model = Model(config)\n",
    "sess = tf.Session()\n",
    "perf_collect = np.zeros((2, int(np.floor(max_iterations / plot_every))))\n",
    "if True:\n",
    "    sess.run(model.init_op)\n",
    "    \n",
    "\n",
    "    step = 0  # Step is a counter for filling the numpy array perf_collect\n",
    "    for i in range(max_iterations):\n",
    "        batch_ind = np.random.choice(N, batch_size, replace=False)\n",
    "        result = sess.run([model.loss, model.loss_seq, model.loss_lat_batch, model.train_step],\n",
    "                          feed_dict={model.x: X_train[batch_ind], model.keep_prob: dropout})\n",
    "\n",
    "        if i % plot_every == 0:\n",
    "            # Save train performances\n",
    "            perf_collect[0, step] = loss_train = result[0]\n",
    "            loss_train_seq, lost_train_lat = result[1], result[2]\n",
    "\n",
    "            # Calculate and save validation performance\n",
    "            batch_ind_val = np.random.choice(Nval, batch_size, replace=False)\n",
    "\n",
    "            result = sess.run([model.loss, model.loss_seq, model.loss_lat_batch, model.merged],\n",
    "                              feed_dict={model.x: X_val[batch_ind_val], model.keep_prob: 1.0})\n",
    "            perf_collect[1, step] = loss_val = result[0]\n",
    "            loss_val_seq, lost_val_lat = result[1], result[2]\n",
    "            # and save to Tensorboard\n",
    "            summary_str = result[3]\n",
    "         \n",
    "\n",
    "            print(\"At %6s / %6s train (%5.3f, %5.3f, %5.3f), val (%5.3f, %5.3f,%5.3f) in order (total, seq, lat)\" % (\n",
    "            i, max_iterations, loss_train, loss_train_seq, lost_train_lat, loss_val, loss_val_seq, lost_val_lat))\n",
    "            step += 1"
   ]
  },
  {
   "cell_type": "code",
   "execution_count": 7,
   "metadata": {},
   "outputs": [
    {
     "name": "stdout",
     "output_type": "stream",
     "text": [
      "[t-SNE] Computing 241 nearest neighbors...\n",
      "[t-SNE] Indexed 1344 samples in 0.002s...\n",
      "[t-SNE] Computed neighbors for 1344 samples in 0.070s...\n",
      "[t-SNE] Computed conditional probabilities for sample 1000 / 1344\n",
      "[t-SNE] Computed conditional probabilities for sample 1344 / 1344\n",
      "[t-SNE] Mean sigma: 0.014162\n",
      "[t-SNE] Computed conditional probabilities in 0.116s\n",
      "[t-SNE] Iteration 50: error = 52.5557442, gradient norm = 0.1444395 (50 iterations in 2.641s)\n",
      "[t-SNE] Iteration 100: error = 48.3108597, gradient norm = 0.0482290 (50 iterations in 2.080s)\n",
      "[t-SNE] Iteration 150: error = 47.5719337, gradient norm = 0.0340796 (50 iterations in 1.973s)\n",
      "[t-SNE] Iteration 200: error = 47.2732811, gradient norm = 0.0230131 (50 iterations in 2.003s)\n",
      "[t-SNE] Iteration 250: error = 47.1011124, gradient norm = 0.0264680 (50 iterations in 1.898s)\n",
      "[t-SNE] KL divergence after 250 iterations with early exaggeration: 47.101112\n",
      "[t-SNE] Iteration 300: error = 0.2962743, gradient norm = 0.0006515 (50 iterations in 2.121s)\n",
      "[t-SNE] Iteration 350: error = 0.2420892, gradient norm = 0.0002246 (50 iterations in 2.152s)\n",
      "[t-SNE] Iteration 400: error = 0.2298145, gradient norm = 0.0001454 (50 iterations in 2.090s)\n",
      "[t-SNE] Iteration 450: error = 0.2259970, gradient norm = 0.0001162 (50 iterations in 2.208s)\n",
      "[t-SNE] Iteration 500: error = 0.2244467, gradient norm = 0.0001013 (50 iterations in 2.156s)\n",
      "[t-SNE] Iteration 550: error = 0.2229642, gradient norm = 0.0001104 (50 iterations in 2.429s)\n",
      "[t-SNE] Iteration 600: error = 0.2222390, gradient norm = 0.0001139 (50 iterations in 2.374s)\n",
      "[t-SNE] Iteration 650: error = 0.2209994, gradient norm = 0.0001333 (50 iterations in 2.510s)\n",
      "[t-SNE] Iteration 700: error = 0.2201977, gradient norm = 0.0001003 (50 iterations in 2.218s)\n",
      "[t-SNE] Iteration 750: error = 0.2194902, gradient norm = 0.0000957 (50 iterations in 2.303s)\n",
      "[t-SNE] Iteration 800: error = 0.2188238, gradient norm = 0.0000775 (50 iterations in 2.544s)\n",
      "[t-SNE] Iteration 850: error = 0.2186447, gradient norm = 0.0000768 (50 iterations in 2.764s)\n",
      "[t-SNE] Iteration 900: error = 0.2185139, gradient norm = 0.0001179 (50 iterations in 2.846s)\n",
      "[t-SNE] Iteration 950: error = 0.2183920, gradient norm = 0.0000671 (50 iterations in 2.129s)\n",
      "[t-SNE] Iteration 1000: error = 0.2175453, gradient norm = 0.0000686 (50 iterations in 2.077s)\n",
      "[t-SNE] Iteration 1050: error = 0.2174311, gradient norm = 0.0001026 (50 iterations in 2.151s)\n",
      "[t-SNE] Iteration 1100: error = 0.2169474, gradient norm = 0.0000936 (50 iterations in 2.162s)\n",
      "[t-SNE] Iteration 1150: error = 0.2171211, gradient norm = 0.0000797 (50 iterations in 2.189s)\n",
      "[t-SNE] Iteration 1200: error = 0.2166199, gradient norm = 0.0000882 (50 iterations in 2.238s)\n",
      "[t-SNE] Iteration 1250: error = 0.2161918, gradient norm = 0.0000622 (50 iterations in 2.206s)\n",
      "[t-SNE] Iteration 1300: error = 0.2159999, gradient norm = 0.0000531 (50 iterations in 2.097s)\n",
      "[t-SNE] Iteration 1350: error = 0.2158721, gradient norm = 0.0000804 (50 iterations in 2.083s)\n",
      "[t-SNE] Iteration 1400: error = 0.2159899, gradient norm = 0.0000517 (50 iterations in 2.147s)\n",
      "[t-SNE] Iteration 1450: error = 0.2158671, gradient norm = 0.0000699 (50 iterations in 2.142s)\n",
      "[t-SNE] Iteration 1500: error = 0.2155085, gradient norm = 0.0000683 (50 iterations in 2.110s)\n",
      "[t-SNE] Iteration 1550: error = 0.2153927, gradient norm = 0.0000715 (50 iterations in 2.073s)\n",
      "[t-SNE] Iteration 1600: error = 0.2152274, gradient norm = 0.0000555 (50 iterations in 2.073s)\n",
      "[t-SNE] Iteration 1650: error = 0.2150112, gradient norm = 0.0000559 (50 iterations in 2.076s)\n",
      "[t-SNE] Iteration 1700: error = 0.2150519, gradient norm = 0.0000554 (50 iterations in 2.168s)\n",
      "[t-SNE] Iteration 1750: error = 0.2149286, gradient norm = 0.0000583 (50 iterations in 2.136s)\n",
      "[t-SNE] Iteration 1800: error = 0.2147065, gradient norm = 0.0000541 (50 iterations in 2.157s)\n",
      "[t-SNE] Iteration 1850: error = 0.2147167, gradient norm = 0.0000671 (50 iterations in 2.204s)\n",
      "[t-SNE] Iteration 1900: error = 0.2148081, gradient norm = 0.0000613 (50 iterations in 2.149s)\n",
      "[t-SNE] Iteration 1950: error = 0.2147278, gradient norm = 0.0000604 (50 iterations in 2.177s)\n",
      "[t-SNE] Iteration 2000: error = 0.2148850, gradient norm = 0.0000587 (50 iterations in 2.106s)\n",
      "[t-SNE] Iteration 2050: error = 0.2146496, gradient norm = 0.0000757 (50 iterations in 2.058s)\n",
      "[t-SNE] Iteration 2100: error = 0.2145099, gradient norm = 0.0000823 (50 iterations in 2.078s)\n",
      "[t-SNE] Iteration 2150: error = 0.2142195, gradient norm = 0.0000579 (50 iterations in 2.147s)\n",
      "[t-SNE] Iteration 2200: error = 0.2143229, gradient norm = 0.0000759 (50 iterations in 2.047s)\n",
      "[t-SNE] Iteration 2250: error = 0.2145637, gradient norm = 0.0000644 (50 iterations in 2.047s)\n",
      "[t-SNE] Iteration 2300: error = 0.2143889, gradient norm = 0.0000494 (50 iterations in 2.050s)\n",
      "[t-SNE] Iteration 2350: error = 0.2141798, gradient norm = 0.0000601 (50 iterations in 2.045s)\n",
      "[t-SNE] Iteration 2400: error = 0.2141216, gradient norm = 0.0000467 (50 iterations in 2.045s)\n",
      "[t-SNE] Iteration 2450: error = 0.2139399, gradient norm = 0.0000530 (50 iterations in 2.077s)\n",
      "[t-SNE] Iteration 2500: error = 0.2139120, gradient norm = 0.0000343 (50 iterations in 2.049s)\n",
      "[t-SNE] Iteration 2550: error = 0.2138842, gradient norm = 0.0000444 (50 iterations in 2.209s)\n",
      "[t-SNE] Iteration 2600: error = 0.2136895, gradient norm = 0.0000554 (50 iterations in 2.181s)\n",
      "[t-SNE] Iteration 2650: error = 0.2135828, gradient norm = 0.0000403 (50 iterations in 2.088s)\n",
      "[t-SNE] Iteration 2700: error = 0.2133685, gradient norm = 0.0000539 (50 iterations in 2.076s)\n",
      "[t-SNE] Iteration 2750: error = 0.2134124, gradient norm = 0.0000428 (50 iterations in 2.111s)\n",
      "[t-SNE] Iteration 2800: error = 0.2133896, gradient norm = 0.0000410 (50 iterations in 2.154s)\n",
      "[t-SNE] Iteration 2850: error = 0.2134385, gradient norm = 0.0000425 (50 iterations in 2.071s)\n",
      "[t-SNE] Iteration 2900: error = 0.2132594, gradient norm = 0.0000440 (50 iterations in 2.050s)\n",
      "[t-SNE] Iteration 2950: error = 0.2130093, gradient norm = 0.0000359 (50 iterations in 2.050s)\n",
      "[t-SNE] Iteration 3000: error = 0.2130565, gradient norm = 0.0000431 (50 iterations in 2.155s)\n",
      "[t-SNE] Error after 3000 iterations: 0.213057\n"
     ]
    },
    {
     "ename": "NameError",
     "evalue": "name 'LOG_DIR' is not defined",
     "output_type": "error",
     "traceback": [
      "\u001b[0;31m---------------------------------------------------------------------------\u001b[0m",
      "\u001b[0;31mNameError\u001b[0m                                 Traceback (most recent call last)",
      "\u001b[0;32m<ipython-input-7-c2ea400cc003>\u001b[0m in \u001b[0;36m<module>\u001b[0;34m()\u001b[0m\n\u001b[1;32m     22\u001b[0m \u001b[0;31m# Save the projections also to Tensorboard\u001b[0m\u001b[0;34m\u001b[0m\u001b[0;34m\u001b[0m\u001b[0m\n\u001b[1;32m     23\u001b[0m \u001b[0msaver\u001b[0m \u001b[0;34m=\u001b[0m \u001b[0mtf\u001b[0m\u001b[0;34m.\u001b[0m\u001b[0mtrain\u001b[0m\u001b[0;34m.\u001b[0m\u001b[0mSaver\u001b[0m\u001b[0;34m(\u001b[0m\u001b[0;34m)\u001b[0m\u001b[0;34m\u001b[0m\u001b[0m\n\u001b[0;32m---> 24\u001b[0;31m \u001b[0msaver\u001b[0m\u001b[0;34m.\u001b[0m\u001b[0msave\u001b[0m\u001b[0;34m(\u001b[0m\u001b[0msess\u001b[0m\u001b[0;34m,\u001b[0m \u001b[0mos\u001b[0m\u001b[0;34m.\u001b[0m\u001b[0mpath\u001b[0m\u001b[0;34m.\u001b[0m\u001b[0mjoin\u001b[0m\u001b[0;34m(\u001b[0m\u001b[0mLOG_DIR\u001b[0m\u001b[0;34m,\u001b[0m \u001b[0;34m\"model.ckpt\"\u001b[0m\u001b[0;34m)\u001b[0m\u001b[0;34m,\u001b[0m \u001b[0mstep\u001b[0m\u001b[0;34m)\u001b[0m\u001b[0;34m\u001b[0m\u001b[0m\n\u001b[0m\u001b[1;32m     25\u001b[0m \u001b[0mconfig\u001b[0m \u001b[0;34m=\u001b[0m \u001b[0mprojector\u001b[0m\u001b[0;34m.\u001b[0m\u001b[0mProjectorConfig\u001b[0m\u001b[0;34m(\u001b[0m\u001b[0;34m)\u001b[0m\u001b[0;34m\u001b[0m\u001b[0m\n\u001b[1;32m     26\u001b[0m \u001b[0;31m# You can add multiple embeddings. Here we add only one.\u001b[0m\u001b[0;34m\u001b[0m\u001b[0;34m\u001b[0m\u001b[0m\n",
      "\u001b[0;31mNameError\u001b[0m: name 'LOG_DIR' is not defined"
     ]
    },
    {
     "data": {
      "image/png": "[encoded data removed]",
      "text/plain": [
       "<matplotlib.figure.Figure at 0x1247f1dd8>"
      ]
     },
     "metadata": {},
     "output_type": "display_data"
    }
   ],
   "source": [
    "LABLE_DATA_FILE = \"dataset/train/y_train.txt\"\n",
    "label = np.loadtxt(LABLE_DATA_FILE)\n",
    "y_train = label[:6000]\n",
    "y_val = label[6000:]\n",
    "if True:\n",
    "    ##Extract the latent space coordinates of the validation set\n",
    "    start = 0\n",
    "    label = []  # The label to save to visualize the latent space\n",
    "    z_run = []\n",
    "\n",
    "    while start + batch_size < Nval:\n",
    "        run_ind = range(start, start + batch_size)\n",
    "        z_mu_fetch = sess.run(model.z_mu, feed_dict={model.x: X_val[run_ind], model.keep_prob: 1.0})\n",
    "        z_run.append(z_mu_fetch)\n",
    "        start += batch_size\n",
    "\n",
    "    z_run = np.concatenate(z_run, axis=0)\n",
    "    label = y_val[:start]\n",
    "\n",
    "    plot_z_run(z_run, label)\n",
    "\n",
    "# Save the projections also to Tensorboard\n",
    "saver = tf.train.Saver()\n",
    "saver.save(sess, os.path.join(LOG_DIR, \"model.ckpt\"), step)\n",
    "config = projector.ProjectorConfig()\n",
    "# You can add multiple embeddings. Here we add only one.\n",
    "embedding = config.embeddings.add()\n",
    "embedding.tensor_name = model.z_mu.name\n",
    "# Link this tensor to its metadata file (e.g. labels).\n",
    "embedding.metadata_path = os.path.join(LOG_DIR, 'metadata.tsv')\n",
    "\n",
    "# Saves a configuration file that TensorBoard will read during startup.\n",
    "projector.visualize_embeddings(writer, config)\n",
    "saver.save(sess, os.path.join(LOG_DIR, \"model.ckpt\"), step + 1)\n",
    "# Now open Tensorboard with\n",
    "#  $tensorboard --logdir = LOG_DIR\n",
    "\n",
    "\n",
    "\n",
    "\n",
    "\n"
   ]
  },
  {
   "cell_type": "code",
   "execution_count": null,
   "metadata": {},
   "outputs": [],
   "source": []
  }
 ],
 "metadata": {
  "kernelspec": {
   "display_name": "Python 3",
   "language": "python",
   "name": "python3"
  },
  "language_info": {
   "codemirror_mode": {
    "name": "ipython",
    "version": 3
   },
   "file_extension": ".py",
   "mimetype": "text/x-python",
   "name": "python",
   "nbconvert_exporter": "python",
   "pygments_lexer": "ipython3",
   "version": "3.6.4"
  }
 },
 "nbformat": 4,
 "nbformat_minor": 2
}
